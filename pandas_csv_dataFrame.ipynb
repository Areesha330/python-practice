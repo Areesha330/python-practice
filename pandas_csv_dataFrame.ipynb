{
  "nbformat": 4,
  "nbformat_minor": 0,
  "metadata": {
    "colab": {
      "provenance": []
    },
    "kernelspec": {
      "name": "python3",
      "display_name": "Python 3"
    },
    "language_info": {
      "name": "python"
    }
  },
  "cells": [
    {
      "cell_type": "code",
      "source": [
        "#making a dictionary\n",
        "\n",
        "import pandas\n",
        "users = {\n",
        "    'id':[1,2,3,4],\n",
        "    'name':[\"alex\",\"boss\",\"chen\",\"bag\"],\n",
        "    'age':[3.5,4,10,12]\n",
        "}\n",
        "print(users)\n",
        "users_df = pandas.DataFrame(users)\n",
        "print(users_df)\n",
        "\n",
        "#to save this data in csv file\n",
        "users_df.to_csv('df_1.csv',index=False, sep=\"|\")\n"
      ],
      "metadata": {
        "colab": {
          "base_uri": "https://localhost:8080/"
        },
        "id": "YQUms-kZsDEM",
        "outputId": "d9db14eb-25cb-44e3-d66d-1476d6517565"
      },
      "execution_count": 4,
      "outputs": [
        {
          "output_type": "stream",
          "name": "stdout",
          "text": [
            "{'id': [1, 2, 3, 4], 'name': ['alex', 'boss', 'chen', 'bag'], 'age': [3.5, 4, 10, 12]}\n",
            "   id  name   age\n",
            "0   1  alex   3.5\n",
            "1   2  boss   4.0\n",
            "2   3  chen  10.0\n",
            "3   4   bag  12.0\n"
          ]
        }
      ]
    },
    {
      "cell_type": "code",
      "source": [
        "import pandas\n",
        "users = {\n",
        "    'id':[1,2,3,4],\n",
        "    \"name\":[\"alex\", \"boss\", \"chen\", \"bag\"],\n",
        "    'age':[4,6,10,12]\n",
        "}\n",
        "#converting to xml\n",
        "users_df.to_xml('output_users.xml',index=False)"
      ],
      "metadata": {
        "id": "eTCPhdAfuaTv"
      },
      "execution_count": 12,
      "outputs": []
    },
    {
      "cell_type": "code",
      "source": [
        "pip install lxml"
      ],
      "metadata": {
        "colab": {
          "base_uri": "https://localhost:8080/"
        },
        "id": "H01bTU0EwcSn",
        "outputId": "0e8ea76e-e1ed-4543-ef41-0eb15384793a"
      },
      "execution_count": 14,
      "outputs": [
        {
          "output_type": "stream",
          "name": "stdout",
          "text": [
            "Requirement already satisfied: lxml in /usr/local/lib/python3.10/dist-packages (4.9.4)\n"
          ]
        }
      ]
    },
    {
      "cell_type": "code",
      "execution_count": 5,
      "metadata": {
        "colab": {
          "base_uri": "https://localhost:8080/"
        },
        "id": "z3yjt090fMFC",
        "outputId": "98f05080-76c6-4839-f28c-d1eb03667273"
      },
      "outputs": [
        {
          "output_type": "stream",
          "name": "stdout",
          "text": [
            "{'id': [6, 7, 8], 'name': ['Ali', 'Usman', 'Anas'], 'Age': [11, 10, 12]}\n",
            "   id   name  Age\n",
            "0   6    Ali   11\n",
            "1   7  Usman   10\n",
            "2   8   Anas   12\n"
          ]
        }
      ],
      "source": [
        "import pandas\n",
        "users = {\n",
        "    'id':[6,7,8],\n",
        "    \"name\":[\"Ali\",\"Usman\",\"Anas\"],\n",
        "    'Age':[11,10,12]\n",
        "}\n",
        "print(users)\n",
        "users_df = pandas.DataFrame(users)\n",
        "print(users_df)\n",
        "\n",
        "#converting to xml\n",
        "users_df.to_xml('output.xml',index=False)\n"
      ]
    },
    {
      "cell_type": "code",
      "source": [
        "import pandas\n",
        "users = {\n",
        "    'id':[6,7,8,7],\n",
        "    \"name\":[\"Ali\",\"Usman\",\"Anas\",\"alex\"],\n",
        "    'Age':[9,11,10,12]\n",
        "}\n",
        "print(users)\n",
        "users_df = pandas.DataFrame(users)\n",
        "print(users_df)\n",
        "\n",
        "#converting to json\n",
        "users_df.to_json('df',index=False)\n"
      ],
      "metadata": {
        "colab": {
          "base_uri": "https://localhost:8080/"
        },
        "id": "iYAmgxbMr4B9",
        "outputId": "b2735534-91ce-4ae7-f419-73a46fad5cc5"
      },
      "execution_count": 17,
      "outputs": [
        {
          "output_type": "stream",
          "name": "stdout",
          "text": [
            "{'id': [6, 7, 8, 7], 'name': ['Ali', 'Usman', 'Anas', 'alex'], 'Age': [9, 11, 10, 12]}\n",
            "   id   name  Age\n",
            "0   6    Ali    9\n",
            "1   7  Usman   11\n",
            "2   8   Anas   10\n",
            "3   7   alex   12\n"
          ]
        }
      ]
    },
    {
      "cell_type": "code",
      "source": [
        "import pandas as pd\n",
        "data = {\n",
        "    'Name': ['Alice', 'Bob', 'Charlie'],\n",
        "    'Age': [25, 30, 35],\n",
        "    'City': ['New York', 'Los Angeles', 'Chicago']\n",
        "}\n",
        "data_df = pd.DataFrame(data)\n",
        "print(data_df)\n",
        "data_df.to_csv(\"df\", index=False, sep= \";\")"
      ],
      "metadata": {
        "colab": {
          "base_uri": "https://localhost:8080/"
        },
        "id": "-1Rxnh7Qxgda",
        "outputId": "e48cb425-f02b-435f-afd1-9e3260b2aab3"
      },
      "execution_count": 18,
      "outputs": [
        {
          "output_type": "stream",
          "name": "stdout",
          "text": [
            "      Name  Age         City\n",
            "0    Alice   25     New York\n",
            "1      Bob   30  Los Angeles\n",
            "2  Charlie   35      Chicago\n"
          ]
        }
      ]
    },
    {
      "cell_type": "code",
      "source": [
        "import pandas as pd\n",
        "data = {\n",
        "    'Name': ['Alice', 'Bob', 'Charlie'],\n",
        "    'Age': [25, 30, 35],\n",
        "    'City': ['New York', 'Los Angeles', 'Chicago']\n",
        "}\n",
        "data_df = pd.DataFrame(data)\n",
        "print(data_df)\n",
        "data_df.to_xml(\"cf\", index=False)"
      ],
      "metadata": {
        "colab": {
          "base_uri": "https://localhost:8080/"
        },
        "id": "P7vqAihLxp_4",
        "outputId": "176a64db-cc7c-4fdb-b160-c2567dfffc6e"
      },
      "execution_count": 19,
      "outputs": [
        {
          "output_type": "stream",
          "name": "stdout",
          "text": [
            "      Name  Age         City\n",
            "0    Alice   25     New York\n",
            "1      Bob   30  Los Angeles\n",
            "2  Charlie   35      Chicago\n"
          ]
        }
      ]
    },
    {
      "cell_type": "code",
      "source": [
        "import pandas as pd\n",
        "data = {\n",
        "    'Name':['Ali','Usman','Asif','Saad'],\n",
        "    'Age':[23,26,30,34],\n",
        "    'City':['New York','Pakistan','Turkey','Chicago']\n",
        "\n",
        "}\n",
        "data_df = pd.DataFrame(data)\n",
        "print(data_df)\n",
        "data_df.to_json(\"pd.csv\",index=False)"
      ],
      "metadata": {
        "colab": {
          "base_uri": "https://localhost:8080/"
        },
        "id": "w2UIGh54xyWg",
        "outputId": "4be9862d-8382-4a39-86de-1fe8f2d161cd"
      },
      "execution_count": 20,
      "outputs": [
        {
          "output_type": "stream",
          "name": "stdout",
          "text": [
            "    Name  Age      City\n",
            "0    Ali   23  New York\n",
            "1  Usman   26  Pakistan\n",
            "2   Asif   30    Turkey\n",
            "3   Saad   34   Chicago\n"
          ]
        }
      ]
    }
  ]
}